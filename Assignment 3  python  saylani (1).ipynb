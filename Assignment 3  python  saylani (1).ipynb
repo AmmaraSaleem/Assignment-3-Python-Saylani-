{
 "cells": [
  {
   "cell_type": "markdown",
   "metadata": {},
   "source": [
    "# 1. Write a Python program to print the following string in a specific format (see the output)."
   ]
  },
  {
   "cell_type": "code",
   "execution_count": 1,
   "metadata": {},
   "outputs": [
    {
     "name": "stdout",
     "output_type": "stream",
     "text": [
      "Twinkle, twinkle, little star,\n",
      "\tHow I wonder what you are! \n",
      "\t\tUp above the world so high, \n",
      "\t\tLike a diamond in the sky. \n",
      "Twinkle, twinkle, little star, \n",
      "\tHow I wonder what you are!\n"
     ]
    }
   ],
   "source": [
    "print(\"Twinkle, twinkle, little star,\\n\\tHow I wonder what you are! \\n\\t\\tUp above the world so high, \\n\\t\\tLike a diamond in the sky. \\nTwinkle, twinkle, little star, \\n\\tHow I wonder what you are!\")\n"
   ]
  },
  {
   "cell_type": "markdown",
   "metadata": {},
   "source": [
    "# 2. Write a Python program to get the Python version you are using."
   ]
  },
  {
   "cell_type": "code",
   "execution_count": 2,
   "metadata": {},
   "outputs": [
    {
     "name": "stdout",
     "output_type": "stream",
     "text": [
      "Python version\n",
      "3.8.3 (default, Jul  2 2020, 17:30:36) [MSC v.1916 64 bit (AMD64)]\n"
     ]
    }
   ],
   "source": [
    "import sys\n",
    "print(\"Python version\")\n",
    "print (sys.version)"
   ]
  },
  {
   "cell_type": "markdown",
   "metadata": {},
   "source": [
    "# 3. Write a Python program to display the current date and time."
   ]
  },
  {
   "cell_type": "code",
   "execution_count": 1,
   "metadata": {},
   "outputs": [
    {
     "name": "stdout",
     "output_type": "stream",
     "text": [
      "Current date and time : \n",
      "2021-10-23 07:35:34\n"
     ]
    }
   ],
   "source": [
    "import datetime\n",
    "now = datetime.datetime.now()\n",
    "print (\"Current date and time : \")\n",
    "print (now.strftime(\"%Y-%m-%d %H:%M:%S\"))\n"
   ]
  },
  {
   "cell_type": "markdown",
   "metadata": {},
   "source": [
    "# 4. Write a Python program which accepts the radius of a circle from the user and compute the area."
   ]
  },
  {
   "cell_type": "code",
   "execution_count": 20,
   "metadata": {},
   "outputs": [
    {
     "name": "stdout",
     "output_type": "stream",
     "text": [
      "Input the radius of the circle : 56\n",
      "Area of the circle with radius 56.0 is: 7853.981633974483\n"
     ]
    }
   ],
   "source": [
    "from math import pi\n",
    "radius = float(input (\"Input the radius of the circle : \"))\n",
    "print (\"Area of the circle with radius \" + str(radius) + \" is: \" + str(pi * r**2))\n"
   ]
  },
  {
   "cell_type": "markdown",
   "metadata": {},
   "source": [
    "# 5. Write a Python program which accepts the user's first and last name and print them in reverse order with a space between them."
   ]
  },
  {
   "cell_type": "code",
   "execution_count": 21,
   "metadata": {},
   "outputs": [
    {
     "name": "stdout",
     "output_type": "stream",
     "text": [
      "Input your First Name : ammara\n",
      "Input your Last Name : rehmat\n",
      "Hello  rehmat ammara\n"
     ]
    }
   ],
   "source": [
    "firstName = input(\"Input your First Name : \")\n",
    "lastName = input(\"Input your Last Name : \")\n",
    "print ( lastName + \" \" + firstName)\n"
   ]
  },
  {
   "cell_type": "markdown",
   "metadata": {},
   "source": [
    "# 8. Write a program which take input from user and identify that the given number is even or odd?"
   ]
  },
  {
   "cell_type": "code",
   "execution_count": 22,
   "metadata": {},
   "outputs": [
    {
     "name": "stdout",
     "output_type": "stream",
     "text": [
      "Enter a number: 6\n",
      "even number.\n"
     ]
    }
   ],
   "source": [
    "num = int(input(\"Enter a number: \"))\n",
    "mod = num % 2\n",
    "if mod > 0:\n",
    "    print(\"odd number.\")\n",
    "else:\n",
    "    print(\"even number.\")"
   ]
  },
  {
   "cell_type": "markdown",
   "metadata": {},
   "source": [
    "# 10.Write a Python program to sum all the numeric items in a list?"
   ]
  },
  {
   "cell_type": "code",
   "execution_count": 10,
   "metadata": {},
   "outputs": [
    {
     "name": "stdout",
     "output_type": "stream",
     "text": [
      "The list is : [1, 4, 5, 7, 8]\n",
      "Sum of all elements in given list:  74\n"
     ]
    }
   ],
   "source": [
    "\n",
    "test_list = [ 1, 4, 5, 7, 8 ]\n",
    "print (\"The list is : \" + str(test_list))\n",
    "for i in test_list:\n",
    "    total = 0\n",
    "list1 = [11, 5, 17, 18, 23]\n",
    "for element in range(0, len(list1)):\n",
    "    total = total + list1[element]\n",
    "print(\"Sum of all elements in given list: \", total)\n",
    "\n"
   ]
  },
  {
   "cell_type": "markdown",
   "metadata": {},
   "source": [
    "# 12. Take a list, say for example this one: a = [1, 1, 2, 3, 5, 8, 13, 21, 34, 55, 89] Write a program that prints out all the elements of the list that are less than 5."
   ]
  },
  {
   "cell_type": "code",
   "execution_count": 27,
   "metadata": {},
   "outputs": [
    {
     "name": "stdout",
     "output_type": "stream",
     "text": [
      "[1, 1, 2, 3]\n"
     ]
    }
   ],
   "source": [
    "\n",
    "num= [1, 1, 2, 3, 5, 8, 13, 21, 34, 55, 89]\n",
    "\n",
    "new_list = []\n",
    "\n",
    "for item in num:\n",
    "    if item < 5:\n",
    "        new_list.append(item)\n",
    "print(new_list)"
   ]
  },
  {
   "cell_type": "markdown",
   "metadata": {},
   "source": [
    "# 7. Write a program which takes 5 inputs from user for different subject’s marks, total it nd generate mark sheet using grades ?"
   ]
  },
  {
   "cell_type": "code",
   "execution_count": 16,
   "metadata": {},
   "outputs": [
    {
     "name": "stdout",
     "output_type": "stream",
     "text": [
      "ENTER ENGLISH MARKS:67\n",
      "ENTER ISLAMIYAT MARKS:89\n",
      "ENTER MAtH MARKS:87\n",
      "ENTER MAtH MARKS:54\n",
      "ENTER MAtH MARKS:45\n",
      "\n",
      "TOTAL MARKS=500\n",
      "OBTAINED MARKS=342\n",
      "MY PERCENTAGE IS=68.4%\n",
      "MY GRADE IS=C\n",
      "MY REMARKS IS=PASS\n"
     ]
    }
   ],
   "source": [
    "eng=int(input(\"ENTER ENGLISH MARKS:\"));\n",
    "isl=int(input(\"ENTER ISLAMIYAT MARKS:\"));\n",
    "math=int(input(\"ENTER MAtH MARKS:\"));\n",
    "urdu=int(input(\"ENTER MAtH MARKS:\"));\n",
    "sindhi=int(input(\"ENTER MAtH MARKS:\"));\n",
    "total=500;\n",
    "obt=eng+isl+math+urdu+sindhi;\n",
    "per=int(obt)*(100/total);\n",
    "\n",
    "if(per>80 and per<=100):\n",
    "    print(\"\\nTOTAL MARKS=\"+str(total)+\n",
    "          \"\\nOBTAINED MARKS=\"+str(obt)+\n",
    "          \"\\nMY PERCENTAGE IS=\"+str(per)+\"%\"+\n",
    "          \"\\nMY GRADE IS=\"+\"A+\"+\n",
    "          \"\\nMY REMARKS IS=\"+\"PASS\");\n",
    "elif(per>70 and per<=80):\n",
    "    print(\"\\nTOTAL MARKS=\"+str(total)+\n",
    "          \"\\nOBTAINED MARKS=\"+str(obt)+\n",
    "          \"\\nMY PERCENTAGE IS=\"+str(per)+\"%\"+\n",
    "          \"\\nMY GRADE IS=\"+\"B\"+\n",
    "          \"\\nMY REMARKS IS=\"+\"PASS\");\n",
    "elif(per>60 and per<=70):\n",
    "    print(\"\\nTOTAL MARKS=\"+str(total)+\n",
    "          \"\\nOBTAINED MARKS=\"+str(obt)+\n",
    "          \"\\nMY PERCENTAGE IS=\"+str(per)+\"%\"+\n",
    "          \"\\nMY GRADE IS=\"+\"C\"+\n",
    "          \"\\nMY REMARKS IS=\"+\"PASS\");\n",
    "elif(per>50 and per<=60):\n",
    "    print(\"\\nTOTAL MARKS=\"+str(total)+\n",
    "          \"\\nOBTAINED MARKS=\"+str(obt)+\n",
    "          \"\\nMY PERCENTAGE IS=\"+str(per)+\"%\"+\n",
    "          \"\\nMY GRADE IS=\"+\"D\"+\n",
    "          \"\\nMY REMARKS IS=\"+\"PASS\");\n",
    "elif (per>=40 and per<=49):\n",
    "    print(\"\\nTOTAL MARKS=\"+str(total)+\n",
    "          \"\\nOBTAINED MARKS=\"+str(obt)+\n",
    "          \"\\nMY PERCENTAGE IS=\"+str(per)+\"%\"+\n",
    "          \"\\nMY GRADE IS=\"+\"E\"+\n",
    "          \"\\nMY REMARKS IS=\"+\"PASS\");\n",
    "else:\n",
    "    print(\"\\nTOTAL MARKS=\"+str(total)+\n",
    "          \"\\nOBTAINED MARKS=\"+str(obt)+\n",
    "          \"\\nMY PERCENTAGE IS=\"+str(per)+\"%\"+\n",
    "          \"\\nMY GRADE IS=\"+\"F\"+\n",
    "          \"\\nMY REMARKS IS=\"+\"FAIL\");\n"
   ]
  },
  {
   "cell_type": "markdown",
   "metadata": {},
   "source": [
    "# 6. Write a python program which takes two inputs from user and print them addition."
   ]
  },
  {
   "cell_type": "code",
   "execution_count": 2,
   "metadata": {},
   "outputs": [
    {
     "name": "stdout",
     "output_type": "stream",
     "text": [
      "Enter first number: 8\n",
      "Enter second number: 9\n",
      "17\n"
     ]
    }
   ],
   "source": [
    "\n",
    "num1 = input('Enter first number: ')\n",
    "num2 = input('Enter second number: ')\n",
    "\n",
    "sum = int(num1) + int(num2)\n",
    "print(sum)\n"
   ]
  },
  {
   "cell_type": "markdown",
   "metadata": {},
   "source": [
    "# 9 Write a program which print the length of the list?"
   ]
  },
  {
   "cell_type": "code",
   "execution_count": 4,
   "metadata": {},
   "outputs": [
    {
     "name": "stdout",
     "output_type": "stream",
     "text": [
      "The list is : [1, 2, 3, 5, 6]\n",
      "Length of list : 5\n"
     ]
    }
   ],
   "source": [
    "\n",
    "test_list = [ 1, 2, 3, 5, 6]\n",
    "\n",
    "print (\"The list is : \" + str(test_list))\n",
    "counter = 0\n",
    "for i in test_list:\n",
    "    counter = counter + 1\n",
    "print (\"Length of list : \" + str(counter))\n"
   ]
  },
  {
   "cell_type": "markdown",
   "metadata": {},
   "source": [
    "# 11.Write a Python program to get the largest number from a numeric list."
   ]
  },
  {
   "cell_type": "code",
   "execution_count": 5,
   "metadata": {},
   "outputs": [
    {
     "name": "stdout",
     "output_type": "stream",
     "text": [
      "Largest element is: 100\n"
     ]
    }
   ],
   "source": [
    "\n",
    "list_largest = [10, 20, 30, 40, 100]\n",
    "\n",
    "list_largest.sort()\n",
    "\n",
    "print(\"Largest element is:\", list_largest[-1])\n"
   ]
  },
  {
   "cell_type": "code",
   "execution_count": null,
   "metadata": {},
   "outputs": [],
   "source": []
  }
 ],
 "metadata": {
  "kernelspec": {
   "display_name": "Python 3",
   "language": "python",
   "name": "python3"
  },
  "language_info": {
   "codemirror_mode": {
    "name": "ipython",
    "version": 3
   },
   "file_extension": ".py",
   "mimetype": "text/x-python",
   "name": "python",
   "nbconvert_exporter": "python",
   "pygments_lexer": "ipython3",
   "version": "3.8.3"
  }
 },
 "nbformat": 4,
 "nbformat_minor": 4
}
